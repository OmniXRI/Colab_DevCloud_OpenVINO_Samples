{
  "nbformat": 4,
  "nbformat_minor": 0,
  "metadata": {
    "colab": {
      "name": "Colab_OpenVINO_Open_Closed_Eye_ONNX.ipynb",
      "provenance": [],
      "collapsed_sections": []
    },
    "kernelspec": {
      "name": "python3",
      "display_name": "Python 3"
    },
    "language_info": {
      "name": "python"
    }
  },
  "cells": [
    {
      "cell_type": "markdown",
      "metadata": {
        "id": "HWvBMzAqjqX0"
      },
      "source": [
        "#OpenVINO影像分類範例_開閤眼偵測\n",
        "\n",
        "歐尼克斯實境互動工作室 OmniXRI Jack, 2021.7.20"
      ]
    },
    {
      "cell_type": "markdown",
      "metadata": {
        "id": "J05wVg8tjtRh"
      },
      "source": [
        "# 1. 安裝Intel OpenVINO工具包\n",
        "以apt方式安裝OpenVINO，安裝版本為 2021.3.394  \n",
        "預設安裝路徑為/opt/intel/OpenVINO_2021.3.394，系統會自建出/opt/intel/OpenVINO_2021捷徑名稱，後續可使用這個較短捷徑名稱。"
      ]
    },
    {
      "cell_type": "code",
      "metadata": {
        "colab": {
          "base_uri": "https://localhost:8080/"
        },
        "id": "bfxHmKejjjhp",
        "outputId": "68189fbe-3292-4b52-a5dd-1d70f429b1a6"
      },
      "source": [
        "# 顯示目前工作目錄\n",
        "!pwd\n",
        "# 取得OpenVINO 2021公開金錀\n",
        "!wget https://apt.repos.intel.com/openvino/2021/GPG-PUB-KEY-INTEL-OPENVINO-2021 \n",
        "# 加入OpenVINO公開金錀到系統金錀群中\n",
        "!apt-key add GPG-PUB-KEY-INTEL-OPENVINO-2021 \n",
        "# 建立更新安裝清單檔案\n",
        "!touch /etc/apt/sources.list.d/intel-openvino-2021.list\n",
        "# 將下載指令加入安裝清單中\n",
        "!echo \"deb https://apt.repos.intel.com/openvino/2021 all main\" >> /etc/apt/sources.list.d/intel-openvino-2021.list\n",
        "# 更新系統\n",
        "!apt update\n",
        "# 安裝OpenVINO到虛擬機系統中\n",
        "!apt install intel-openvino-dev-ubuntu18-2021.3.394\n",
        "# 列出安裝路徑下內容進行確認\n",
        "!ls /opt/intel"
      ],
      "execution_count": 1,
      "outputs": [
        {
          "output_type": "stream",
          "text": [
            "/content\n",
            "--2021-07-19 16:11:14--  https://apt.repos.intel.com/openvino/2021/GPG-PUB-KEY-INTEL-OPENVINO-2021\n",
            "Resolving apt.repos.intel.com (apt.repos.intel.com)... 104.102.229.90, 2600:1408:20:c8d::4b23, 2600:1408:20:c89::4b23\n",
            "Connecting to apt.repos.intel.com (apt.repos.intel.com)|104.102.229.90|:443... connected.\n",
            "HTTP request sent, awaiting response... 200 OK\n",
            "Length: 939 [binary/octet-stream]\n",
            "Saving to: ‘GPG-PUB-KEY-INTEL-OPENVINO-2021.1’\n",
            "\n",
            "GPG-PUB-KEY-INTEL-O 100%[===================>]     939  --.-KB/s    in 0s      \n",
            "\n",
            "2021-07-19 16:11:14 (236 MB/s) - ‘GPG-PUB-KEY-INTEL-OPENVINO-2021.1’ saved [939/939]\n",
            "\n",
            "OK\n",
            "Hit:1 http://security.ubuntu.com/ubuntu bionic-security InRelease\n",
            "Hit:2 https://apt.repos.intel.com/openvino/2021 all InRelease\n",
            "Ign:3 https://developer.download.nvidia.com/compute/cuda/repos/ubuntu1804/x86_64  InRelease\n",
            "Hit:4 https://cloud.r-project.org/bin/linux/ubuntu bionic-cran40/ InRelease\n",
            "Ign:5 https://developer.download.nvidia.com/compute/machine-learning/repos/ubuntu1804/x86_64  InRelease\n",
            "Hit:6 http://ppa.launchpad.net/c2d4u.team/c2d4u4.0+/ubuntu bionic InRelease\n",
            "Hit:7 https://developer.download.nvidia.com/compute/cuda/repos/ubuntu1804/x86_64  Release\n",
            "Hit:8 http://archive.ubuntu.com/ubuntu bionic InRelease\n",
            "Hit:9 https://developer.download.nvidia.com/compute/machine-learning/repos/ubuntu1804/x86_64  Release\n",
            "Hit:10 http://archive.ubuntu.com/ubuntu bionic-updates InRelease\n",
            "Hit:11 http://ppa.launchpad.net/cran/libgit2/ubuntu bionic InRelease\n",
            "Hit:12 http://archive.ubuntu.com/ubuntu bionic-backports InRelease\n",
            "Hit:13 http://ppa.launchpad.net/deadsnakes/ppa/ubuntu bionic InRelease\n",
            "Hit:14 http://ppa.launchpad.net/graphics-drivers/ppa/ubuntu bionic InRelease\n",
            "Reading package lists... Done\n",
            "Building dependency tree       \n",
            "Reading state information... Done\n",
            "42 packages can be upgraded. Run 'apt list --upgradable' to see them.\n",
            "W: Target Packages (main/binary-amd64/Packages) is configured multiple times in /etc/apt/sources.list.d/intel-openvino-2021.list:1 and /etc/apt/sources.list.d/intel-openvino-2021.list:2\n",
            "W: Target Packages (main/binary-all/Packages) is configured multiple times in /etc/apt/sources.list.d/intel-openvino-2021.list:1 and /etc/apt/sources.list.d/intel-openvino-2021.list:2\n",
            "W: Target Packages (main/binary-amd64/Packages) is configured multiple times in /etc/apt/sources.list.d/intel-openvino-2021.list:1 and /etc/apt/sources.list.d/intel-openvino-2021.list:2\n",
            "W: Target Packages (main/binary-all/Packages) is configured multiple times in /etc/apt/sources.list.d/intel-openvino-2021.list:1 and /etc/apt/sources.list.d/intel-openvino-2021.list:2\n",
            "Reading package lists... Done\n",
            "Building dependency tree       \n",
            "Reading state information... Done\n",
            "intel-openvino-dev-ubuntu18-2021.3.394 is already the newest version (2021.3-394).\n",
            "0 upgraded, 0 newly installed, 0 to remove and 42 not upgraded.\n",
            "W: Target Packages (main/binary-amd64/Packages) is configured multiple times in /etc/apt/sources.list.d/intel-openvino-2021.list:1 and /etc/apt/sources.list.d/intel-openvino-2021.list:2\n",
            "W: Target Packages (main/binary-all/Packages) is configured multiple times in /etc/apt/sources.list.d/intel-openvino-2021.list:1 and /etc/apt/sources.list.d/intel-openvino-2021.list:2\n",
            "openvino_2021  openvino_2021.3.394\n"
          ],
          "name": "stdout"
        }
      ]
    },
    {
      "cell_type": "markdown",
      "metadata": {
        "id": "Ser_5lT09S-a"
      },
      "source": [
        "# 2.下載模型\n",
        "\n",
        "OpenVINO Open Model Zoo (Public pretrained models) 中提供了約有70多種現成的影像分類模型，如下列網址所示。  \n",
        "https://docs.openvinotoolkit.org/latest/classification_models_public.html  \n",
        "\n",
        "模型名稱包括：alexnet, anti-spoof-mn3, caffenet, densenet-121, densenet-121-caffe2, densenet-121-tf, densenet-161, densenet-161-tf, densenet-169, densenet-169-tf, densenet-201, densenet-201-tf, dla-34, efficientnet-b0, efficientnet-b0-pytorch, efficientnet-b0_auto_aug, efficientnet-b5, efficientnet-b5-pytorch, efficientnet-b7-pytorch, efficientnet-b7_auto_aug, googlenet-v1, googlenet-v1-tf, googlenet-v2, googlenet-v2-tf, googlenet-v3, googlenet-v3-pytorch, googlenet-v4-tf, hbonet-0.25, hbonet-0.5, hbonet-1.0, inception-resnet-v2-tf, mobilenet-v1-0.25-128, mobilenet-v1-0.50-160, mobilenet-v1-0.50-224, mobilenet-v1-1.0-224, mobilenet-v1-1.0-224-tf, mobilenet-v2, mobilenet-v2-1.0-224, mobilenet-v2-1.4-224, mobilenet-v2-pytorch, mobilenet-v3-large-1.0-224-tf, mobilenet-v3-small-1.0-224-tf, octave-densenet-121-0.125, octave-resnet-101-0.125, octave-resnet-200-0.125, octave-resnet-26-0.25, octave-resnet-50-0.125, octave-resnext-101-0.25, octave-resnext-50-0.25, octave-se-resnet-50-0.125, open-closed-eye-0001, regnetx-3.2gf, resnest-50-pytorch, resnet-18-pytorch, resnet-34-pytorch, resnet-50-caffe2, resnet-50-pytorch, resnet-50-tf, rexnet-v1-x1.0, se-inception, se-resnet-101, se-resnet-152, se-resnet-50, se-resnext-101, se-resnext-50, shufflenet-v2-x1.0, squeezenet1.0, squeezenet1.1, squeezenet1.1-caffe2, vgg16, vgg19, vgg19-caffe2.  \n",
        "\n",
        "這裡選用 **--name open-closed-eye-0001** （可自行變更所需模型名稱，這個模型為onnx格式）"
      ]
    },
    {
      "cell_type": "code",
      "metadata": {
        "colab": {
          "base_uri": "https://localhost:8080/"
        },
        "id": "_ynSCtP99TYJ",
        "outputId": "273140da-bbd7-4882-e71c-16feed0bd92a"
      },
      "source": [
        "!source /opt/intel/openvino_2021/bin/setupvars.sh && \\\n",
        "python3 /opt/intel/openvino_2021/deployment_tools/tools/model_downloader/downloader.py --name open-closed-eye-0001\n",
        "!ls public/open-closed-eye-0001/"
      ],
      "execution_count": 2,
      "outputs": [
        {
          "output_type": "stream",
          "text": [
            "[setupvars.sh] OpenVINO environment initialized\n",
            "################|| Downloading open-closed-eye-0001 ||################\n",
            "\n",
            "========== Downloading /content/public/open-closed-eye-0001/open-closed-eye.onnx\n",
            "... 100%, 45 KB, 3433 KB/s, 0 seconds passed\n",
            "\n",
            "FP16  FP32  open-closed-eye.onnx\n"
          ],
          "name": "stdout"
        }
      ]
    },
    {
      "cell_type": "markdown",
      "metadata": {
        "id": "HyfPv4iIA3_x"
      },
      "source": [
        "# 3.模型轉換\n",
        "\n",
        "如果下載的是Intel Pretrained Model則不需轉換就自帶IR檔(xml,bin)  \n",
        "若是Public Pretrained Model則須進行轉換成IR檔，系統會自動判別。  \n",
        "--name 參數為待轉換模型名稱"
      ]
    },
    {
      "cell_type": "code",
      "metadata": {
        "colab": {
          "base_uri": "https://localhost:8080/"
        },
        "id": "eHqNd1uMA4KF",
        "outputId": "5fe70330-141c-4e84-8ce8-dba2e3b95d84"
      },
      "source": [
        "# 因為轉換PyTorch會用到ONNX，所以要安裝相關套件包\n",
        "!pip3 install onnx\n",
        "\n",
        "# 下載及安裝test-generator 方便檢查程式運行錯誤\n",
        "!pip3 install test-generator==0.1.1\n",
        "\n",
        "# 執行環境設定批次檔並將下載到的模型檔進行轉換產生IR(xml & bin)檔\n",
        "!source /opt/intel/openvino_2021/bin/setupvars.sh && \\\n",
        "python3 /opt/intel/openvino_2021/deployment_tools/tools/model_downloader/converter.py \\\n",
        "--name open-closed-eye-0001\n",
        "\n",
        "# 檢查模型轉檔後會產生/FP16, FP32不同精度的IR檔(xml, bin)\n",
        "!ls public/open-closed-eye-0001\n",
        "!ls public/open-closed-eye-0001/FP32"
      ],
      "execution_count": 3,
      "outputs": [
        {
          "output_type": "stream",
          "text": [
            "Requirement already satisfied: onnx in /usr/local/lib/python3.7/dist-packages (1.9.0)\n",
            "Requirement already satisfied: numpy>=1.16.6 in /usr/local/lib/python3.7/dist-packages (from onnx) (1.19.5)\n",
            "Requirement already satisfied: protobuf in /usr/local/lib/python3.7/dist-packages (from onnx) (3.17.3)\n",
            "Requirement already satisfied: six in /usr/local/lib/python3.7/dist-packages (from onnx) (1.15.0)\n",
            "Requirement already satisfied: typing-extensions>=3.6.2.1 in /usr/local/lib/python3.7/dist-packages (from onnx) (3.7.4.3)\n",
            "Requirement already satisfied: test-generator==0.1.1 in /usr/local/lib/python3.7/dist-packages (0.1.1)\n",
            "Requirement already satisfied: six in /usr/local/lib/python3.7/dist-packages (from test-generator==0.1.1) (1.15.0)\n",
            "[setupvars.sh] OpenVINO environment initialized\n",
            "========== Converting open-closed-eye-0001 to IR (FP16)\n",
            "Conversion command: /usr/bin/python3 -- /opt/intel/openvino_2021/deployment_tools/model_optimizer/mo.py --framework=onnx --data_type=FP16 --output_dir=/content/public/open-closed-eye-0001/FP16 --model_name=open-closed-eye-0001 '--mean_values=[127.0, 127.0, 127.0]' '--scale_values=[255, 255, 255]' --output=19 --input_model=/content/public/open-closed-eye-0001/open-closed-eye.onnx\n",
            "\n",
            "Model Optimizer arguments:\n",
            "Common parameters:\n",
            "\t- Path to the Input Model: \t/content/public/open-closed-eye-0001/open-closed-eye.onnx\n",
            "\t- Path for generated IR: \t/content/public/open-closed-eye-0001/FP16\n",
            "\t- IR output name: \topen-closed-eye-0001\n",
            "\t- Log level: \tERROR\n",
            "\t- Batch: \tNot specified, inherited from the model\n",
            "\t- Input layers: \tNot specified, inherited from the model\n",
            "\t- Output layers: \t19\n",
            "\t- Input shapes: \tNot specified, inherited from the model\n",
            "\t- Mean values: \t[127.0, 127.0, 127.0]\n",
            "\t- Scale values: \t[255, 255, 255]\n",
            "\t- Scale factor: \tNot specified\n",
            "\t- Precision of IR: \tFP16\n",
            "\t- Enable fusing: \tTrue\n",
            "\t- Enable grouped convolutions fusing: \tTrue\n",
            "\t- Move mean values to preprocess section: \tNone\n",
            "\t- Reverse input channels: \tFalse\n",
            "ONNX specific parameters:\n",
            "\t- Inference Engine found in: \t/opt/intel/openvino_2021/python/python3.7/openvino\n",
            "Inference Engine version: \t2.1.2021.3.0-2787-60059f2c755-releases/2021/3\n",
            "Model Optimizer version: \t    2021.3.0-2787-60059f2c755-releases/2021/3\n",
            "2021-07-19 16:11:32.211096: I tensorflow/stream_executor/platform/default/dso_loader.cc:53] Successfully opened dynamic library libcudart.so.11.0\n",
            "[ SUCCESS ] Generated IR version 10 model.\n",
            "[ SUCCESS ] XML file: /content/public/open-closed-eye-0001/FP16/open-closed-eye-0001.xml\n",
            "[ SUCCESS ] BIN file: /content/public/open-closed-eye-0001/FP16/open-closed-eye-0001.bin\n",
            "[ SUCCESS ] Total execution time: 4.07 seconds. \n",
            "[ SUCCESS ] Memory consumed: 322 MB. \n",
            "It's been a while, check for a new version of Intel(R) Distribution of OpenVINO(TM) toolkit here https://software.intel.com/content/www/us/en/develop/tools/openvino-toolkit/download.html?cid=other&source=prod&campid=ww_2021_bu_IOTG_OpenVINO-2021-3&content=upg_all&medium=organic or on the GitHub*\n",
            "\n",
            "========== Converting open-closed-eye-0001 to IR (FP32)\n",
            "Conversion command: /usr/bin/python3 -- /opt/intel/openvino_2021/deployment_tools/model_optimizer/mo.py --framework=onnx --data_type=FP32 --output_dir=/content/public/open-closed-eye-0001/FP32 --model_name=open-closed-eye-0001 '--mean_values=[127.0, 127.0, 127.0]' '--scale_values=[255, 255, 255]' --output=19 --input_model=/content/public/open-closed-eye-0001/open-closed-eye.onnx\n",
            "\n",
            "Model Optimizer arguments:\n",
            "Common parameters:\n",
            "\t- Path to the Input Model: \t/content/public/open-closed-eye-0001/open-closed-eye.onnx\n",
            "\t- Path for generated IR: \t/content/public/open-closed-eye-0001/FP32\n",
            "\t- IR output name: \topen-closed-eye-0001\n",
            "\t- Log level: \tERROR\n",
            "\t- Batch: \tNot specified, inherited from the model\n",
            "\t- Input layers: \tNot specified, inherited from the model\n",
            "\t- Output layers: \t19\n",
            "\t- Input shapes: \tNot specified, inherited from the model\n",
            "\t- Mean values: \t[127.0, 127.0, 127.0]\n",
            "\t- Scale values: \t[255, 255, 255]\n",
            "\t- Scale factor: \tNot specified\n",
            "\t- Precision of IR: \tFP32\n",
            "\t- Enable fusing: \tTrue\n",
            "\t- Enable grouped convolutions fusing: \tTrue\n",
            "\t- Move mean values to preprocess section: \tNone\n",
            "\t- Reverse input channels: \tFalse\n",
            "ONNX specific parameters:\n",
            "\t- Inference Engine found in: \t/opt/intel/openvino_2021/python/python3.7/openvino\n",
            "Inference Engine version: \t2.1.2021.3.0-2787-60059f2c755-releases/2021/3\n",
            "Model Optimizer version: \t    2021.3.0-2787-60059f2c755-releases/2021/3\n",
            "2021-07-19 16:11:37.185495: I tensorflow/stream_executor/platform/default/dso_loader.cc:53] Successfully opened dynamic library libcudart.so.11.0\n",
            "[ SUCCESS ] Generated IR version 10 model.\n",
            "[ SUCCESS ] XML file: /content/public/open-closed-eye-0001/FP32/open-closed-eye-0001.xml\n",
            "[ SUCCESS ] BIN file: /content/public/open-closed-eye-0001/FP32/open-closed-eye-0001.bin\n",
            "[ SUCCESS ] Total execution time: 3.71 seconds. \n",
            "[ SUCCESS ] Memory consumed: 323 MB. \n",
            "It's been a while, check for a new version of Intel(R) Distribution of OpenVINO(TM) toolkit here https://software.intel.com/content/www/us/en/develop/tools/openvino-toolkit/download.html?cid=other&source=prod&campid=ww_2021_bu_IOTG_OpenVINO-2021-3&content=upg_all&medium=organic or on the GitHub*\n",
            "\n",
            "FP16  FP32  open-closed-eye.onnx\n",
            "open-closed-eye-0001.bin      open-closed-eye-0001.xml\n",
            "open-closed-eye-0001.mapping\n"
          ],
          "name": "stdout"
        }
      ]
    },
    {
      "cell_type": "markdown",
      "metadata": {
        "id": "6-NozBcyOpyM"
      },
      "source": [
        "4.準備測試影像\n",
        "\n",
        "從網路獲取任意一張測試影像並顯示"
      ]
    },
    {
      "cell_type": "code",
      "metadata": {
        "colab": {
          "base_uri": "https://localhost:8080/",
          "height": 265
        },
        "id": "oV56gsmkOqAL",
        "outputId": "535c8409-8a98-41f8-e76c-515ff81f8c9a"
      },
      "source": [
        "# 以OpenCV檢視輸入影像\n",
        "import cv2\n",
        "import matplotlib.pyplot as plt\n",
        "import numpy as np\n",
        "import requests\n",
        "\n",
        "# 從網路獲取一張影像（更多眼睛照片資料集可參考 http://mrl.cs.vsb.cz/eyedataset）\n",
        "file = requests.get(\"https://raw.githubusercontent.com/OmniXRI/Colab_DevCloud_OpenVINO_Samples/main/dataset/eye_open.png\") # 張眼照\n",
        "#file = requests.get(\"https://raw.githubusercontent.com/OmniXRI/Colab_DevCloud_OpenVINO_Samples/main/dataset/eye_closed.png\") # 閉眼照\n",
        "\n",
        "# 將影像轉成OpenCV格式存入img中\n",
        "img = cv2.imdecode(np.frombuffer(file.content, np.uint8), 1)\n",
        "# 將img寫入磁碟命名為input.jpg\n",
        "cv2.imwrite('input.jpg',img)\n",
        "\n",
        "# 亦可直接讀取本地端影像\n",
        "# img = cv2.imread('input.jpg')\n",
        "\n",
        "rgb = cv2.cvtColor(img, cv2.COLOR_BGR2RGB) # 將影像從BGR格式轉到RGB格式，才能讓plt.imshow()正確顯示\n",
        "plt.figure() # 準備一顯示影像空間\n",
        "plt.axis(\"off\") # 設定關閉XY軸刻尺\n",
        "plt.imshow(rgb) # 顯示影像"
      ],
      "execution_count": 8,
      "outputs": [
        {
          "output_type": "execute_result",
          "data": {
            "text/plain": [
              "<matplotlib.image.AxesImage at 0x7f8e3b70f550>"
            ]
          },
          "metadata": {
            "tags": []
          },
          "execution_count": 8
        },
        {
          "output_type": "display_data",
          "data": {
            "image/png": "[encoded data removed]",
            "text/plain": [
              "<Figure size 432x288 with 1 Axes>"
            ]
          },
          "metadata": {
            "tags": [],
            "needs_background": "light"
          }
        }
      ]
    },
    {
      "cell_type": "markdown",
      "metadata": {
        "id": "eBycQhSsYDXM"
      },
      "source": [
        "# 5.進行推論\n",
        "\n",
        "在OpenVINO中大部份的範例程式都放在/opt/intel/openvino_2021/deployment_tools/inference_engine/demos中，但影像辨識是最基本的範例，所以不在其中，而是放在/opt/intel/openvino_2021/inference_engine/samples/python/下。  \n",
        "這裡使用/python/hello_classification/hello_classification.py來進行影像分類測試。這個範例適用上述數十種模型。    \n",
        "另外要依據不同的模型所對應的資料集給予標籤檔案，預設放在/opt/intel/openvino_2021/deployment_tools/open_model_zoo/data/dataset_classes下。\n",
        "\n",
        "輸入參數：  \n",
        "-i 輸入影像名稱 (.png, .jpg ...)  \n",
        "-m 模型名稱 (.xml)  \n",
        "-nt 輸出置信度排序最高的前幾項（選配參數，預設為Top 10）  \n",
        "--labels 標籤名稱檔(.txt) （選配參數，不使用時會以id編號輸出，這個範例不使用）  \n",
        "\n",
        "最後顯示推論結果，包括分類編號(classid)及置信度(probability)  "
      ]
    },
    {
      "cell_type": "code",
      "metadata": {
        "colab": {
          "base_uri": "https://localhost:8080/"
        },
        "id": "25qVkE-9A2re",
        "outputId": "a902a699-321e-4a46-8446-b1e3f08f5f57"
      },
      "source": [
        "# 設定環境變數執行影像分類推論\n",
        "# 張眼分類編號(Classid)為1,閉眼為0\n",
        "!source /opt/intel/openvino_2021/bin/setupvars.sh && \\\n",
        "python3 \\\n",
        "/opt/intel/openvino_2021/inference_engine/samples/python/hello_classification/hello_classification.py \\\n",
        "-i 'input.jpg' \\\n",
        "-m public/open-closed-eye-0001/FP32/open-closed-eye-0001.xml "
      ],
      "execution_count": 9,
      "outputs": [
        {
          "output_type": "stream",
          "text": [
            "[setupvars.sh] OpenVINO environment initialized\n",
            "[ INFO ] Creating Inference Engine\n",
            "[ INFO ] Loading network:\n",
            "\tpublic/open-closed-eye-0001/FP32/open-closed-eye-0001.xml\n",
            "[ INFO ] Preparing input blobs\n",
            "[ WARNING ] Image input.jpg is resized from (180, 180) to (32, 32)\n",
            "[ INFO ] Loading model to the plugin\n",
            "[ INFO ] Starting inference in synchronous mode\n",
            "[ INFO ] Processing output blob\n",
            "[ INFO ] Top 10 results: \n",
            "Image input.jpg\n",
            "\n",
            "classid probability\n",
            "------- -----------\n",
            "   0     0.9999882\n",
            "   1     0.0000118\n",
            "\n",
            "\n",
            "[ INFO ] This sample is an API example, for any performance measurements please use the dedicated benchmark_app tool\n",
            "\n"
          ],
          "name": "stdout"
        }
      ]
    }
  ]
}