{
  "nbformat": 4,
  "nbformat_minor": 0,
  "metadata": {
    "colab": {
      "name": "Colab_OpenVINO_Sound_Classification.ipynb",
      "provenance": [],
      "collapsed_sections": []
    },
    "kernelspec": {
      "name": "python3",
      "display_name": "Python 3"
    },
    "language_info": {
      "name": "python"
    }
  },
  "cells": [
    {
      "cell_type": "markdown",
      "metadata": {
        "id": "uRxPmoe1uOvA"
      },
      "source": [
        "# OpenVINO聲音辨識範例程式\n",
        "\n",
        "歐尼克斯實境互動工作室 OmniXRI Jack, 2021.6.15 整理製作  "
      ]
    },
    {
      "cell_type": "markdown",
      "metadata": {
        "id": "zmElETF8uOkf"
      },
      "source": [
        "#1. 安裝Intel OpenVINO工具包\n",
        "以apt方式安裝OpenVINO，安裝版本為 2021.3.394\n",
        "預設安裝路徑為/opt/intel/openvino_2021.3.394，系統會自建出/opt/intel/openvino_2021捷徑名稱，後續可使用這個較短捷徑名稱。"
      ]
    },
    {
      "cell_type": "code",
      "metadata": {
        "colab": {
          "base_uri": "https://localhost:8080/"
        },
        "id": "6faCST5KuHqD",
        "outputId": "f840c07b-fffa-4200-9d2e-c9ff7e8a73aa"
      },
      "source": [
        "# 顯示目前工作目錄\n",
        "!pwd\n",
        "# 取得OpenVINO 2021公開金錀\n",
        "!wget https://apt.repos.intel.com/openvino/2021/GPG-PUB-KEY-INTEL-OPENVINO-2021\n",
        "# 加入OpenVINO公開金錀到系統金錀群中\n",
        "!apt-key add GPG-PUB-KEY-INTEL-OPENVINO-2021\n",
        "# 建立更新安裝清單檔案\n",
        "!touch /etc/apt/sources.list.d/intel-openvino-2021.list\n",
        "# 將下載指令加入安裝清單中\n",
        "!echo \"deb https://apt.repos.intel.com/openvino/2021 all main\" >> /etc/apt/sources.list.d/intel-openvino-2021.list\n",
        "# 更新系統\n",
        "!apt update\n",
        "# 安裝OpenVINO LTS到虛擬機系統中\n",
        "!apt install intel-openvino-dev-ubuntu18-2021.3.394\n",
        "# 列出安裝路徑下內容進行確認\n",
        "!ls /opt/intel"
      ],
      "execution_count": 15,
      "outputs": [
        {
          "output_type": "stream",
          "text": [
            "/content\n",
            "--2021-06-14 18:51:40--  https://apt.repos.intel.com/openvino/2021/GPG-PUB-KEY-INTEL-OPENVINO-2021\n",
            "Resolving apt.repos.intel.com (apt.repos.intel.com)... 104.64.31.124, 2a02:26f0:b200:38e::4b23, 2a02:26f0:b200:38d::4b23\n",
            "Connecting to apt.repos.intel.com (apt.repos.intel.com)|104.64.31.124|:443... connected.\n",
            "HTTP request sent, awaiting response... 200 OK\n",
            "Length: 939 [binary/octet-stream]\n",
            "Saving to: ‘GPG-PUB-KEY-INTEL-OPENVINO-2021.1’\n",
            "\n",
            "GPG-PUB-KEY-INTEL-O 100%[===================>]     939  --.-KB/s    in 0s      \n",
            "\n",
            "2021-06-14 18:51:40 (7.96 MB/s) - ‘GPG-PUB-KEY-INTEL-OPENVINO-2021.1’ saved [939/939]\n",
            "\n",
            "OK\n",
            "Hit:1 http://ppa.launchpad.net/c2d4u.team/c2d4u4.0+/ubuntu bionic InRelease\n",
            "Hit:2 http://archive.ubuntu.com/ubuntu bionic InRelease\n",
            "Get:3 http://archive.ubuntu.com/ubuntu bionic-updates InRelease [88.7 kB]\n",
            "Hit:4 https://cloud.r-project.org/bin/linux/ubuntu bionic-cran40/ InRelease\n",
            "Hit:5 http://ppa.launchpad.net/cran/libgit2/ubuntu bionic InRelease\n",
            "Hit:6 http://ppa.launchpad.net/deadsnakes/ppa/ubuntu bionic InRelease\n",
            "Get:7 http://archive.ubuntu.com/ubuntu bionic-backports InRelease [74.6 kB]\n",
            "Hit:8 http://ppa.launchpad.net/graphics-drivers/ppa/ubuntu bionic InRelease\n",
            "Hit:9 https://apt.repos.intel.com/openvino/2021 all InRelease\n",
            "Get:10 http://security.ubuntu.com/ubuntu bionic-security InRelease [88.7 kB]\n",
            "Ign:11 https://developer.download.nvidia.com/compute/cuda/repos/ubuntu1804/x86_64  InRelease\n",
            "Ign:12 https://developer.download.nvidia.com/compute/machine-learning/repos/ubuntu1804/x86_64  InRelease\n",
            "Hit:13 https://developer.download.nvidia.com/compute/cuda/repos/ubuntu1804/x86_64  Release\n",
            "Hit:14 https://developer.download.nvidia.com/compute/machine-learning/repos/ubuntu1804/x86_64  Release\n",
            "Get:15 http://archive.ubuntu.com/ubuntu bionic-updates/main amd64 Packages [2,619 kB]\n",
            "Fetched 2,871 kB in 2s (1,523 kB/s)\n",
            "Reading package lists... Done\n",
            "Building dependency tree       \n",
            "Reading state information... Done\n",
            "48 packages can be upgraded. Run 'apt list --upgradable' to see them.\n",
            "W: Target Packages (main/binary-amd64/Packages) is configured multiple times in /etc/apt/sources.list.d/intel-openvino-2021.list:1 and /etc/apt/sources.list.d/intel-openvino-2021.list:2\n",
            "W: Target Packages (main/binary-all/Packages) is configured multiple times in /etc/apt/sources.list.d/intel-openvino-2021.list:1 and /etc/apt/sources.list.d/intel-openvino-2021.list:2\n",
            "W: Target Packages (main/binary-amd64/Packages) is configured multiple times in /etc/apt/sources.list.d/intel-openvino-2021.list:1 and /etc/apt/sources.list.d/intel-openvino-2021.list:2\n",
            "W: Target Packages (main/binary-all/Packages) is configured multiple times in /etc/apt/sources.list.d/intel-openvino-2021.list:1 and /etc/apt/sources.list.d/intel-openvino-2021.list:2\n",
            "Reading package lists... Done\n",
            "Building dependency tree       \n",
            "Reading state information... Done\n",
            "intel-openvino-dev-ubuntu18-2021.3.394 is already the newest version (2021.3-394).\n",
            "0 upgraded, 0 newly installed, 0 to remove and 48 not upgraded.\n",
            "W: Target Packages (main/binary-amd64/Packages) is configured multiple times in /etc/apt/sources.list.d/intel-openvino-2021.list:1 and /etc/apt/sources.list.d/intel-openvino-2021.list:2\n",
            "W: Target Packages (main/binary-all/Packages) is configured multiple times in /etc/apt/sources.list.d/intel-openvino-2021.list:1 and /etc/apt/sources.list.d/intel-openvino-2021.list:2\n",
            "openvino_2021  openvino_2021.3.394\n"
          ],
          "name": "stdout"
        }
      ]
    },
    {
      "cell_type": "markdown",
      "metadata": {
        "id": "PjNHdKzRxZwJ"
      },
      "source": [
        "#2.下載模型\n",
        "\n",
        "可選用聲音辨識模型為  \n",
        "aclnet  \n",
        "aclnet-int8  \n",
        "\n",
        "這裡選用 --name aclnet （可自行變更所需模型名稱）"
      ]
    },
    {
      "cell_type": "code",
      "metadata": {
        "colab": {
          "base_uri": "https://localhost:8080/"
        },
        "id": "cwZGZLmSxZ9Z",
        "outputId": "2febbab2-a8b5-463e-c664-428e56f900b8"
      },
      "source": [
        "!source /opt/intel/openvino_2021/bin/setupvars.sh && \\\n",
        "python3 /opt/intel/openvino_2021/deployment_tools/tools/model_downloader/downloader.py --name aclnet\n",
        "\n",
        "!ls public/"
      ],
      "execution_count": 16,
      "outputs": [
        {
          "output_type": "stream",
          "text": [
            "[setupvars.sh] OpenVINO environment initialized\n",
            "################|| Downloading aclnet ||################\n",
            "\n",
            "========== Downloading /content/public/aclnet/aclnet_des_53.onnx\n",
            "... 100%, 10709 KB, 58046 KB/s, 0 seconds passed\n",
            "\n",
            "aclnet\n"
          ],
          "name": "stdout"
        }
      ]
    },
    {
      "cell_type": "markdown",
      "metadata": {
        "id": "ivklmjZay25w"
      },
      "source": [
        "#3.模型轉換\n",
        "\n",
        "如果下載的是Intel Pretrained Model則不需轉換就自帶IR檔(xml,bin)\n",
        "若是Public Pretrained Model則須進行轉換成IR檔，系統會自動判別。\n",
        "--name 參數為待轉換模型名稱"
      ]
    },
    {
      "cell_type": "code",
      "metadata": {
        "colab": {
          "base_uri": "https://localhost:8080/"
        },
        "id": "ghBaLXY6y3DY",
        "outputId": "305d1bee-7436-40a3-fd1c-938b13419e21"
      },
      "source": [
        "# public預訓練模型有使用到ONNX,所以需另外安裝ONNX模組\n",
        "!pip3 install ONNX\n",
        "\n",
        "# 下載及安裝test-generator 方便檢查程式運行錯誤\n",
        "!pip3 install test-generator==0.1.1\n",
        "\n",
        "# 執行環境設定批次檔並將下載到的模型檔進行轉換產生IR(xml & bin)檔\n",
        "!source /opt/intel/openvino_2021/bin/setupvars.sh && \\\n",
        "python3 /opt/intel/openvino_2021/deployment_tools/tools/model_downloader/converter.py \\\n",
        "--name aclnet\n",
        "\n",
        "# 檢查模型轉檔後會產生/FP16, FP32不同精度的IR檔(xml, bin)\n",
        "!ls public/aclnet\n",
        "!ls public/aclnet/FP32"
      ],
      "execution_count": 17,
      "outputs": [
        {
          "output_type": "stream",
          "text": [
            "Requirement already satisfied: ONNX in /usr/local/lib/python3.7/dist-packages (1.9.0)\n",
            "Requirement already satisfied: protobuf in /usr/local/lib/python3.7/dist-packages (from ONNX) (3.12.4)\n",
            "Requirement already satisfied: typing-extensions>=3.6.2.1 in /usr/local/lib/python3.7/dist-packages (from ONNX) (3.7.4.3)\n",
            "Requirement already satisfied: numpy>=1.16.6 in /usr/local/lib/python3.7/dist-packages (from ONNX) (1.19.5)\n",
            "Requirement already satisfied: six in /usr/local/lib/python3.7/dist-packages (from ONNX) (1.15.0)\n",
            "Requirement already satisfied: setuptools in /usr/local/lib/python3.7/dist-packages (from protobuf->ONNX) (57.0.0)\n",
            "Requirement already satisfied: test-generator==0.1.1 in /usr/local/lib/python3.7/dist-packages (0.1.1)\n",
            "Requirement already satisfied: six in /usr/local/lib/python3.7/dist-packages (from test-generator==0.1.1) (1.15.0)\n",
            "[setupvars.sh] OpenVINO environment initialized\n",
            "========== Converting aclnet to IR (FP16)\n",
            "Conversion command: /usr/bin/python3 -- /opt/intel/openvino_2021/deployment_tools/model_optimizer/mo.py --framework=onnx --data_type=FP16 --output_dir=/content/public/aclnet/FP16 --model_name=aclnet '--input_shape=[1,1,1,16000]' --input=input --output=output --input_model=/content/public/aclnet/aclnet_des_53.onnx\n",
            "\n",
            "Model Optimizer arguments:\n",
            "Common parameters:\n",
            "\t- Path to the Input Model: \t/content/public/aclnet/aclnet_des_53.onnx\n",
            "\t- Path for generated IR: \t/content/public/aclnet/FP16\n",
            "\t- IR output name: \taclnet\n",
            "\t- Log level: \tERROR\n",
            "\t- Batch: \tNot specified, inherited from the model\n",
            "\t- Input layers: \tinput\n",
            "\t- Output layers: \toutput\n",
            "\t- Input shapes: \t[1,1,1,16000]\n",
            "\t- Mean values: \tNot specified\n",
            "\t- Scale values: \tNot specified\n",
            "\t- Scale factor: \tNot specified\n",
            "\t- Precision of IR: \tFP16\n",
            "\t- Enable fusing: \tTrue\n",
            "\t- Enable grouped convolutions fusing: \tTrue\n",
            "\t- Move mean values to preprocess section: \tNone\n",
            "\t- Reverse input channels: \tFalse\n",
            "ONNX specific parameters:\n",
            "\t- Inference Engine found in: \t/opt/intel/openvino_2021/python/python3.7/openvino\n",
            "Inference Engine version: \t2.1.2021.3.0-2787-60059f2c755-releases/2021/3\n",
            "Model Optimizer version: \t    2021.3.0-2787-60059f2c755-releases/2021/3\n",
            "2021-06-14 18:51:57.452946: I tensorflow/stream_executor/platform/default/dso_loader.cc:53] Successfully opened dynamic library libcudart.so.11.0\n",
            "[ SUCCESS ] Generated IR version 10 model.\n",
            "[ SUCCESS ] XML file: /content/public/aclnet/FP16/aclnet.xml\n",
            "[ SUCCESS ] BIN file: /content/public/aclnet/FP16/aclnet.bin\n",
            "[ SUCCESS ] Total execution time: 8.61 seconds. \n",
            "[ SUCCESS ] Memory consumed: 388 MB. \n",
            "\n",
            "========== Converting aclnet to IR (FP32)\n",
            "Conversion command: /usr/bin/python3 -- /opt/intel/openvino_2021/deployment_tools/model_optimizer/mo.py --framework=onnx --data_type=FP32 --output_dir=/content/public/aclnet/FP32 --model_name=aclnet '--input_shape=[1,1,1,16000]' --input=input --output=output --input_model=/content/public/aclnet/aclnet_des_53.onnx\n",
            "\n",
            "Model Optimizer arguments:\n",
            "Common parameters:\n",
            "\t- Path to the Input Model: \t/content/public/aclnet/aclnet_des_53.onnx\n",
            "\t- Path for generated IR: \t/content/public/aclnet/FP32\n",
            "\t- IR output name: \taclnet\n",
            "\t- Log level: \tERROR\n",
            "\t- Batch: \tNot specified, inherited from the model\n",
            "\t- Input layers: \tinput\n",
            "\t- Output layers: \toutput\n",
            "\t- Input shapes: \t[1,1,1,16000]\n",
            "\t- Mean values: \tNot specified\n",
            "\t- Scale values: \tNot specified\n",
            "\t- Scale factor: \tNot specified\n",
            "\t- Precision of IR: \tFP32\n",
            "\t- Enable fusing: \tTrue\n",
            "\t- Enable grouped convolutions fusing: \tTrue\n",
            "\t- Move mean values to preprocess section: \tNone\n",
            "\t- Reverse input channels: \tFalse\n",
            "ONNX specific parameters:\n",
            "\t- Inference Engine found in: \t/opt/intel/openvino_2021/python/python3.7/openvino\n",
            "Inference Engine version: \t2.1.2021.3.0-2787-60059f2c755-releases/2021/3\n",
            "Model Optimizer version: \t    2021.3.0-2787-60059f2c755-releases/2021/3\n",
            "2021-06-14 18:52:06.933236: I tensorflow/stream_executor/platform/default/dso_loader.cc:53] Successfully opened dynamic library libcudart.so.11.0\n",
            "[ SUCCESS ] Generated IR version 10 model.\n",
            "[ SUCCESS ] XML file: /content/public/aclnet/FP32/aclnet.xml\n",
            "[ SUCCESS ] BIN file: /content/public/aclnet/FP32/aclnet.bin\n",
            "[ SUCCESS ] Total execution time: 8.46 seconds. \n",
            "[ SUCCESS ] Memory consumed: 392 MB. \n",
            "\n",
            "aclnet_des_53.onnx  FP16  FP32\n",
            "aclnet.bin  aclnet.mapping  aclnet.xml\n"
          ],
          "name": "stdout"
        }
      ]
    },
    {
      "cell_type": "markdown",
      "metadata": {
        "id": "skAFK2eW0QEB"
      },
      "source": [
        "為更清楚了解範例程式可支援的模型，可將models.lst及使用方式列出來確認。（此步驟可忽略）"
      ]
    },
    {
      "cell_type": "code",
      "metadata": {
        "colab": {
          "base_uri": "https://localhost:8080/"
        },
        "id": "Pp56Rk6S0QS4",
        "outputId": "09916514-19ad-4af2-a34b-2ad840609404"
      },
      "source": [
        "# 列出可支援的模型名稱\n",
        "!cat /opt/intel/openvino_2021/inference_engine/demos/sound_classification_demo/python/models.lst"
      ],
      "execution_count": 18,
      "outputs": [
        {
          "output_type": "stream",
          "text": [
            "# This file can be used with the --list option of the model downloader.\n",
            "aclnet\n",
            "aclnet-int8\n"
          ],
          "name": "stdout"
        }
      ]
    },
    {
      "cell_type": "markdown",
      "metadata": {
        "id": "_IvkK2cg0knK"
      },
      "source": [
        "#4.準備測試聲音檔案  \n",
        "\n",
        "從Github下載測試聲音樣本(青蛙叫聲 1-17970-A-4_Flog.wav, 公雞叫聲 1-27724-A-1_Rooster.wav, 狗叫聲1-30344-A-0_Dog.wav)  \n",
        "要使用'https://raw.githubusercontent.com/OmniXRI/Colab_DevCloud_OpenVINO_Samples/main/dataset/1-27724-A-1_Rooster.wav'  \n",
        "取代  'https://github.com/OmniXRI/Colab_DevCloud_OpenVINO_Samples/blob/main/dataset/1-27724-A-1_Rooster.wav'  \n",
        "資料來源：公開資料集 ESC-50 https://github.com/karolpiczak/ESC-50  "
      ]
    },
    {
      "cell_type": "code",
      "metadata": {
        "colab": {
          "base_uri": "https://localhost:8080/"
        },
        "id": "A3m2U1l10kv5",
        "outputId": "d1ce314a-fe75-4fcc-e3f4-7f7edafdff6d"
      },
      "source": [
        "# 下載測試聲音檔\n",
        "!wget -N https://raw.githubusercontent.com/OmniXRI/Colab_DevCloud_OpenVINO_Samples/main/dataset/1-30344-A-0_Dog.wav\n",
        "!ls *.wav"
      ],
      "execution_count": 19,
      "outputs": [
        {
          "output_type": "stream",
          "text": [
            "--2021-06-14 18:52:15--  https://raw.githubusercontent.com/OmniXRI/Colab_DevCloud_OpenVINO_Samples/main/dataset/1-30344-A-0_Dog.wav\n",
            "Resolving raw.githubusercontent.com (raw.githubusercontent.com)... 185.199.111.133, 185.199.110.133, 185.199.108.133, ...\n",
            "Connecting to raw.githubusercontent.com (raw.githubusercontent.com)|185.199.111.133|:443... connected.\n",
            "HTTP request sent, awaiting response... 200 OK\n",
            "Length: 441044 (431K) [audio/wav]\n",
            "Saving to: ‘1-30344-A-0_Dog.wav’\n",
            "\n",
            "1-30344-A-0_Dog.wav 100%[===================>] 430.71K  --.-KB/s    in 0.03s   \n",
            "\n",
            "Last-modified header missing -- time-stamps turned off.\n",
            "2021-06-14 18:52:15 (16.8 MB/s) - ‘1-30344-A-0_Dog.wav’ saved [441044/441044]\n",
            "\n",
            "1-30344-A-0_Dog.wav\n"
          ],
          "name": "stdout"
        }
      ]
    },
    {
      "cell_type": "markdown",
      "metadata": {
        "id": "ogvzyUZW2R0I"
      },
      "source": [
        "#5.進行推論\n",
        "\n",
        "聲音辨識範例程式 sound_classification_demo.py  \n",
        "\n",
        "輸入參數：  \n",
        "-i 輸入聲音檔案(*.wav)  \n",
        "-m 模型路徑(*.xml)  \n",
        "--labels 聲音標籤檔(*.txt)，這裡使用OpenVINO內建aclnet_53cl.txt  \n",
        "-d 推論裝置(在Colab & DevClouud 只能選CPU, DevCloud上欲使用其它裝置須用指派工作方式達成）  \n",
        "--sample_rate 16000 聲音取樣頻率（預設16KHz)  \n",
        "\n",
        "最後顯示推論結果，會自動將輸入聲音檔案切成一秒一段再進行辨識。  "
      ]
    },
    {
      "cell_type": "code",
      "metadata": {
        "colab": {
          "base_uri": "https://localhost:8080/"
        },
        "id": "kaaLCDjy2R9s",
        "outputId": "e1f0a16b-2c14-4bbf-9a51-7282cfef8b43"
      },
      "source": [
        "# 進行聲音辨識推論\n",
        "!source /opt/intel/openvino_2021/bin/setupvars.sh && \\\n",
        "python3 \\\n",
        "/opt/intel/openvino_2021.3.394/deployment_tools/inference_engine/demos/sound_classification_demo/python/sound_classification_demo.py \\\n",
        "-i 1-30344-A-0_Dog.wav \\\n",
        "-m public/aclnet/FP32/aclnet.xml \\\n",
        "--labels /opt/intel/openvino_2021/deployment_tools/open_model_zoo/data/dataset_classes/aclnet_53cl.txt \\\n",
        "-d CPU --sample_rate 16000"
      ],
      "execution_count": 20,
      "outputs": [
        {
          "output_type": "stream",
          "text": [
            "[setupvars.sh] OpenVINO environment initialized\n",
            "[ INFO ] Creating Inference Engine\n",
            "[ INFO ] Loading model public/aclnet/FP32/aclnet.xml\n",
            "[ INFO ] Loading model to the plugin\n",
            "[ INFO ] Preparing input\n",
            "[ INFO ] Starting inference\n",
            "[ INFO ] [0.00-1.00] - 100.00% Dog\n",
            "[ INFO ] [1.00-2.00] - 100.00% Dog\n",
            "[ INFO ] [2.00-3.00] - 100.00% Dog\n",
            "[ INFO ] [3.00-4.00] - 100.00% Dog\n",
            "[ INFO ] [4.00-5.00] - 100.00% Dog\n",
            "[ INFO ] Average infer time - 36.2 ms per clip\n"
          ],
          "name": "stdout"
        }
      ]
    },
    {
      "cell_type": "markdown",
      "metadata": {
        "id": "0tsDn_l22e4h"
      },
      "source": [
        "列出聲音標籤檔內容，共53類，較ESC-50公開資料集多了最後三類。(本步驟可略過)"
      ]
    },
    {
      "cell_type": "code",
      "metadata": {
        "colab": {
          "base_uri": "https://localhost:8080/"
        },
        "id": "Z4Eq_U1l2fE3",
        "outputId": "a5210771-5989-4670-b7ad-9da5cfd2418b"
      },
      "source": [
        "!cat /opt/intel/openvino_2021/deployment_tools/open_model_zoo/data/dataset_classes/aclnet_53cl.txt"
      ],
      "execution_count": 21,
      "outputs": [
        {
          "output_type": "stream",
          "text": [
            "Dog\n",
            "Rooster\n",
            "Pig\n",
            "Cow\n",
            "Frog\n",
            "Cat\n",
            "Hen\n",
            "Insects (flying)\n",
            "Sheep\n",
            "Crow\n",
            "Rain\n",
            "Sea waves\n",
            "Crackling fire\n",
            "Crickets\n",
            "Chirping birds\n",
            "Water drops\n",
            "Wind\n",
            "Pouring water\n",
            "Toilet flush\n",
            "Thunderstorm\n",
            "Crying baby\n",
            "Sneezing\n",
            "Clapping\n",
            "Breathing\n",
            "Coughing\n",
            "Footsteps\n",
            "Laughing\n",
            "Brushing teeth\n",
            "Snoring\n",
            "Drinking sipping\n",
            "Door knock\n",
            "Mouse click\n",
            "Keyboard typing\n",
            "Door wood creaks\n",
            "Can opening\n",
            "Washing machine\n",
            "Vacuum cleaner\n",
            "Clock alarm\n",
            "Clock tick\n",
            "Glass breaking\n",
            "Helicopter\n",
            "Chainsaw\n",
            "Siren\n",
            "Car horn\n",
            "Engine\n",
            "Train\n",
            "Church bells\n",
            "Airplane\n",
            "Fireworks\n",
            "Hand saw\n",
            "Gunshot\n",
            "Crowd\n",
            "Speech\n"
          ],
          "name": "stdout"
        }
      ]
    }
  ]
}