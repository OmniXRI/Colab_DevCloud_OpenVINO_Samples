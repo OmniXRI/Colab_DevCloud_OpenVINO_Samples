{
 "cells": [
  {
   "cell_type": "markdown",
   "id": "foster-granny",
   "metadata": {},
   "source": [
    "OpenVINO聲音辨識範例\n",
    "\n",
    "DevCloud 自帶OpenVINO 2020.3.356(等於openvino-lts)及2021.3.394(等於openvino_2021)版, 操作時依選定環境自動切換。  \n",
    "本範例須於2021.3.394版下執行。\n",
    "\n",
    "歐尼克斯實境互動工作室 OmniXRI Jack, 2021.6.15"
   ]
  },
  {
   "cell_type": "markdown",
   "id": "valued-street",
   "metadata": {},
   "source": [
    "1.檢查OpenVINO版本"
   ]
  },
  {
   "cell_type": "code",
   "execution_count": 1,
   "id": "radio-oxide",
   "metadata": {},
   "outputs": [
    {
     "name": "stdout",
     "output_type": "stream",
     "text": [
      "intel_sdp_products.db  openvino_2020.3.356  openvino_fpga_2020.3.356\r\n",
      "mediasdk\t       openvino_2021\t    openvino-lts\r\n",
      "openvino\t       openvino_2021.3.394\r\n"
     ]
    }
   ],
   "source": [
    "!ls /opt/intel/"
   ]
  },
  {
   "cell_type": "markdown",
   "id": "intensive-sierra",
   "metadata": {},
   "source": [
    "2.下載模型  \n",
    "\n",
    "可選用聲音辨識模型為  \n",
    "aclnet  \n",
    "aclnet-int8  \n",
    "\n",
    "這裡選用 --name aclnet （可自行變更所需模型名稱）  "
   ]
  },
  {
   "cell_type": "code",
   "execution_count": 2,
   "id": "exact-consolidation",
   "metadata": {},
   "outputs": [
    {
     "name": "stdout",
     "output_type": "stream",
     "text": [
      "################|| Downloading aclnet ||################\n",
      "\n",
      "========== Downloading /home/u75102/My-Notebooks/public/aclnet/aclnet_des_53.onnx\n",
      "... 100%, 10709 KB, 6975 KB/s, 1 seconds passed\n",
      "\n"
     ]
    }
   ],
   "source": [
    "# 等價命令 !python3 /opt/intel/openvino_2021/deployment_tools/tools/model_downloader/downloader.py --name aclnet\n",
    "!downloader.py --name aclnet"
   ]
  },
  {
   "cell_type": "markdown",
   "id": "missing-capability",
   "metadata": {},
   "source": [
    "3.模型轉換\n",
    "\n",
    "如果下載的是Intel Pretrained Model則不需轉換就自帶IR檔(xml,bin)\n",
    "若是Public Pretrained Model則須進行轉換成IR檔，系統會自動判別。\n",
    "--name 參數為待轉換模型名稱"
   ]
  },
  {
   "cell_type": "code",
   "execution_count": 3,
   "id": "antique-communications",
   "metadata": {},
   "outputs": [
    {
     "name": "stdout",
     "output_type": "stream",
     "text": [
      "========== Converting aclnet to IR (FP16)\n",
      "Conversion command: /usr/bin/python3 -- /opt/intel/openvino/deployment_tools/model_optimizer/mo.py --framework=onnx --data_type=FP16 --output_dir=/home/u75102/My-Notebooks/public/aclnet/FP16 --model_name=aclnet '--input_shape=[1,1,1,16000]' --input=input --output=output --input_model=/home/u75102/My-Notebooks/public/aclnet/aclnet_des_53.onnx\n",
      "\n",
      "Model Optimizer arguments:\n",
      "Common parameters:\n",
      "\t- Path to the Input Model: \t/home/u75102/My-Notebooks/public/aclnet/aclnet_des_53.onnx\n",
      "\t- Path for generated IR: \t/home/u75102/My-Notebooks/public/aclnet/FP16\n",
      "\t- IR output name: \taclnet\n",
      "\t- Log level: \tERROR\n",
      "\t- Batch: \tNot specified, inherited from the model\n",
      "\t- Input layers: \tinput\n",
      "\t- Output layers: \toutput\n",
      "\t- Input shapes: \t[1,1,1,16000]\n",
      "\t- Mean values: \tNot specified\n",
      "\t- Scale values: \tNot specified\n",
      "\t- Scale factor: \tNot specified\n",
      "\t- Precision of IR: \tFP16\n",
      "\t- Enable fusing: \tTrue\n",
      "\t- Enable grouped convolutions fusing: \tTrue\n",
      "\t- Move mean values to preprocess section: \tNone\n",
      "\t- Reverse input channels: \tFalse\n",
      "ONNX specific parameters:\n",
      "\t- Inference Engine found in: \t/opt/intel/openvino/python/python3.6/openvino\n",
      "Inference Engine version: \t2.1.2021.3.0-2787-60059f2c755-releases/2021/3\n",
      "Model Optimizer version: \t    2021.3.0-2787-60059f2c755-releases/2021/3\n",
      "[ SUCCESS ] Generated IR version 10 model.\n",
      "[ SUCCESS ] XML file: /home/u75102/My-Notebooks/public/aclnet/FP16/aclnet.xml\n",
      "[ SUCCESS ] BIN file: /home/u75102/My-Notebooks/public/aclnet/FP16/aclnet.bin\n",
      "[ SUCCESS ] Total execution time: 7.62 seconds. \n",
      "[ SUCCESS ] Memory consumed: 318 MB. \n",
      "\n",
      "========== Converting aclnet to IR (FP32)\n",
      "Conversion command: /usr/bin/python3 -- /opt/intel/openvino/deployment_tools/model_optimizer/mo.py --framework=onnx --data_type=FP32 --output_dir=/home/u75102/My-Notebooks/public/aclnet/FP32 --model_name=aclnet '--input_shape=[1,1,1,16000]' --input=input --output=output --input_model=/home/u75102/My-Notebooks/public/aclnet/aclnet_des_53.onnx\n",
      "\n",
      "Model Optimizer arguments:\n",
      "Common parameters:\n",
      "\t- Path to the Input Model: \t/home/u75102/My-Notebooks/public/aclnet/aclnet_des_53.onnx\n",
      "\t- Path for generated IR: \t/home/u75102/My-Notebooks/public/aclnet/FP32\n",
      "\t- IR output name: \taclnet\n",
      "\t- Log level: \tERROR\n",
      "\t- Batch: \tNot specified, inherited from the model\n",
      "\t- Input layers: \tinput\n",
      "\t- Output layers: \toutput\n",
      "\t- Input shapes: \t[1,1,1,16000]\n",
      "\t- Mean values: \tNot specified\n",
      "\t- Scale values: \tNot specified\n",
      "\t- Scale factor: \tNot specified\n",
      "\t- Precision of IR: \tFP32\n",
      "\t- Enable fusing: \tTrue\n",
      "\t- Enable grouped convolutions fusing: \tTrue\n",
      "\t- Move mean values to preprocess section: \tNone\n",
      "\t- Reverse input channels: \tFalse\n",
      "ONNX specific parameters:\n",
      "\t- Inference Engine found in: \t/opt/intel/openvino/python/python3.6/openvino\n",
      "Inference Engine version: \t2.1.2021.3.0-2787-60059f2c755-releases/2021/3\n",
      "Model Optimizer version: \t    2021.3.0-2787-60059f2c755-releases/2021/3\n",
      "[ SUCCESS ] Generated IR version 10 model.\n",
      "[ SUCCESS ] XML file: /home/u75102/My-Notebooks/public/aclnet/FP32/aclnet.xml\n",
      "[ SUCCESS ] BIN file: /home/u75102/My-Notebooks/public/aclnet/FP32/aclnet.bin\n",
      "[ SUCCESS ] Total execution time: 7.74 seconds. \n",
      "[ SUCCESS ] Memory consumed: 320 MB. \n",
      "\n",
      "aclnet_des_53.onnx  FP16  FP32\n",
      "aclnet.bin  aclnet.mapping  aclnet.xml\n"
     ]
    }
   ],
   "source": [
    "# 等價命令 !python3 /opt/intel/openvino_2021/deployment_tools/tools/model_downloader/converter.py --name aclnet\n",
    "!converter.py --name aclnet\n",
    "\n",
    "# 檢查模型轉檔後會產生/FP16, FP32不同精度的IR檔(xml, bin)\n",
    "!ls public/aclnet\n",
    "!ls public/aclnet/FP32"
   ]
  },
  {
   "cell_type": "markdown",
   "id": "naked-studio",
   "metadata": {},
   "source": [
    "為更清楚了解範例程式可支援的模型，可將models.lst及使用方式列出來確認。（此步驟可忽略）"
   ]
  },
  {
   "cell_type": "code",
   "execution_count": 4,
   "id": "colored-story",
   "metadata": {},
   "outputs": [
    {
     "name": "stdout",
     "output_type": "stream",
     "text": [
      "# This file can be used with the --list option of the model downloader.\r\n",
      "aclnet\r\n",
      "aclnet-int8\r\n"
     ]
    }
   ],
   "source": [
    "# 列出可支援的模型名稱\n",
    "!cat /opt/intel/openvino_2021/inference_engine/demos/sound_classification_demo/python/models.lst"
   ]
  },
  {
   "cell_type": "markdown",
   "id": "dried-marathon",
   "metadata": {},
   "source": [
    "4.準備測試聲音檔案  \n",
    "\n",
    "從Github下載測試聲音樣本(青蛙叫聲 1-17970-A-4_Flog.wav, 公雞叫聲 1-27724-A-1_Rooster.wav, 狗叫聲1-30344-A-0_Dog.wav)  \n",
    "要使用'https://raw.githubusercontent.com/OmniXRI/Colab_DevCloud_OpenVINO_Samples/main/dataset/1-27724-A-1_Rooster.wav'  \n",
    "取代  'https://github.com/OmniXRI/Colab_DevCloud_OpenVINO_Samples/blob/main/dataset/1-27724-A-1_Rooster.wav'  \n",
    "資料來源：公開資料集 ESC-50 https://github.com/karolpiczak/ESC-50  "
   ]
  },
  {
   "cell_type": "code",
   "execution_count": 5,
   "id": "cognitive-uruguay",
   "metadata": {},
   "outputs": [
    {
     "name": "stdout",
     "output_type": "stream",
     "text": [
      "--2021-06-14 11:49:43--  https://raw.githubusercontent.com/OmniXRI/Colab_DevCloud_OpenVINO_Samples/main/dataset/1-30344-A-0_Dog.wav\n",
      "Resolving raw.githubusercontent.com (raw.githubusercontent.com)... 185.199.109.133, 185.199.111.133, 185.199.110.133, ...\n",
      "Connecting to raw.githubusercontent.com (raw.githubusercontent.com)|185.199.109.133|:443... connected.\n",
      "HTTP request sent, awaiting response... 200 OK\n",
      "Length: 441044 (431K) [audio/wav]\n",
      "Saving to: ‘1-30344-A-0_Dog.wav’\n",
      "\n",
      "1-30344-A-0_Dog.wav 100%[===================>] 430.71K  --.-KB/s    in 0.03s   \n",
      "\n",
      "Last-modified header missing -- time-stamps turned off.\n",
      "2021-06-14 11:49:44 (13.4 MB/s) - ‘1-30344-A-0_Dog.wav’ saved [441044/441044]\n",
      "\n",
      "1-17970-A-4_Flog.wav  1-27724-A-1_Rooster.wav  1-30344-A-0_Dog.wav\n"
     ]
    }
   ],
   "source": [
    "# 下載測試聲音檔\n",
    "!wget -N https://raw.githubusercontent.com/OmniXRI/Colab_DevCloud_OpenVINO_Samples/main/dataset/1-30344-A-0_Dog.wav\n",
    "!ls *.wav"
   ]
  },
  {
   "cell_type": "markdown",
   "id": "alien-albania",
   "metadata": {},
   "source": [
    "5.進行推論\n",
    "\n",
    "聲音辨識範例程式 sound_classification_demo.py  \n",
    "\n",
    "輸入參數：  \n",
    "-i 輸入聲音檔案(*.wav)  \n",
    "-m 模型路徑(*.xml)  \n",
    "--labels 聲音標籤檔(*.txt)，這裡使用OpenVINO內建aclnet_53cl.txt  \n",
    "-d 推論裝置(在Colab & DevClouud 只能選CPU, DevCloud上欲使用其它裝置須用指派工作方式達成）  \n",
    "--sample_rate 16000 聲音取樣頻率（預設16KHz)  \n",
    "\n",
    "最後顯示推論結果，會自動將輸入聲音檔案切成一秒一段再進行辨識。  "
   ]
  },
  {
   "cell_type": "code",
   "execution_count": 6,
   "id": "gothic-vintage",
   "metadata": {},
   "outputs": [
    {
     "name": "stdout",
     "output_type": "stream",
     "text": [
      "[ INFO ] Creating Inference Engine\n",
      "[ INFO ] Loading model public/aclnet/FP32/aclnet.xml\n",
      "[ INFO ] Loading model to the plugin\n",
      "[ INFO ] Preparing input\n",
      "[ INFO ] Starting inference\n",
      "[ INFO ] [0.00-1.00] - 100.00% Dog\n",
      "[ INFO ] [1.00-2.00] - 100.00% Dog\n",
      "[ INFO ] [2.00-3.00] - 100.00% Dog\n",
      "[ INFO ] [3.00-4.00] - 100.00% Dog\n",
      "[ INFO ] [4.00-5.00] - 100.00% Dog\n",
      "[ INFO ] Average infer time - 32.5 ms per clip\n"
     ]
    }
   ],
   "source": [
    "# 進行聲音辨識推論\n",
    "!python3 \\\n",
    "/opt/intel/openvino_2021.3.394/deployment_tools/inference_engine/demos/sound_classification_demo/python/sound_classification_demo.py \\\n",
    "-i 1-30344-A-0_Dog.wav \\\n",
    "-m public/aclnet/FP32/aclnet.xml \\\n",
    "--labels /opt/intel/openvino_2021/deployment_tools/open_model_zoo/data/dataset_classes/aclnet_53cl.txt \\\n",
    "-d CPU --sample_rate 16000"
   ]
  },
  {
   "cell_type": "markdown",
   "id": "neural-official",
   "metadata": {},
   "source": [
    "列出聲音標籤檔內容，共53類，較ESC-50公開資料集多了最後三類。(本步驟可略過)"
   ]
  },
  {
   "cell_type": "code",
   "execution_count": 7,
   "id": "ahead-beast",
   "metadata": {},
   "outputs": [
    {
     "name": "stdout",
     "output_type": "stream",
     "text": [
      "Dog\r\n",
      "Rooster\r\n",
      "Pig\r\n",
      "Cow\r\n",
      "Frog\r\n",
      "Cat\r\n",
      "Hen\r\n",
      "Insects (flying)\r\n",
      "Sheep\r\n",
      "Crow\r\n",
      "Rain\r\n",
      "Sea waves\r\n",
      "Crackling fire\r\n",
      "Crickets\r\n",
      "Chirping birds\r\n",
      "Water drops\r\n",
      "Wind\r\n",
      "Pouring water\r\n",
      "Toilet flush\r\n",
      "Thunderstorm\r\n",
      "Crying baby\r\n",
      "Sneezing\r\n",
      "Clapping\r\n",
      "Breathing\r\n",
      "Coughing\r\n",
      "Footsteps\r\n",
      "Laughing\r\n",
      "Brushing teeth\r\n",
      "Snoring\r\n",
      "Drinking sipping\r\n",
      "Door knock\r\n",
      "Mouse click\r\n",
      "Keyboard typing\r\n",
      "Door wood creaks\r\n",
      "Can opening\r\n",
      "Washing machine\r\n",
      "Vacuum cleaner\r\n",
      "Clock alarm\r\n",
      "Clock tick\r\n",
      "Glass breaking\r\n",
      "Helicopter\r\n",
      "Chainsaw\r\n",
      "Siren\r\n",
      "Car horn\r\n",
      "Engine\r\n",
      "Train\r\n",
      "Church bells\r\n",
      "Airplane\r\n",
      "Fireworks\r\n",
      "Hand saw\r\n",
      "Gunshot\r\n",
      "Crowd\r\n",
      "Speech\r\n"
     ]
    }
   ],
   "source": [
    "!cat /opt/intel/openvino_2021/deployment_tools/open_model_zoo/data/dataset_classes/aclnet_53cl.txt"
   ]
  }
 ],
 "metadata": {
  "kernelspec": {
   "display_name": "Python 3 (OpenVINO 2021.3)",
   "language": "python",
   "name": "c003-python_3"
  },
  "language_info": {
   "codemirror_mode": {
    "name": "ipython",
    "version": 3
   },
   "file_extension": ".py",
   "mimetype": "text/x-python",
   "name": "python",
   "nbconvert_exporter": "python",
   "pygments_lexer": "ipython3",
   "version": "3.6.9"
  },
  "nbTranslate": {
   "displayLangs": [
    "*"
   ],
   "hotkey": "alt-t",
   "langInMainMenu": true,
   "sourceLang": "en",
   "targetLang": "fr",
   "useGoogleTranslate": true
  },
  "toc": {
   "base_numbering": 1,
   "nav_menu": {},
   "number_sections": true,
   "sideBar": true,
   "skip_h1_title": false,
   "title_cell": "Table of Contents",
   "title_sidebar": "Contents",
   "toc_cell": false,
   "toc_position": {},
   "toc_section_display": true,
   "toc_window_display": false
  }
 },
 "nbformat": 4,
 "nbformat_minor": 5
}
